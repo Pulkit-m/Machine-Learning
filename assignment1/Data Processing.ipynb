{
 "cells": [
  {
   "cell_type": "markdown",
   "id": "e723245c",
   "metadata": {},
   "source": [
    "# Assignment 1\n",
    "### Data Pre-Processing"
   ]
  },
  {
   "cell_type": "code",
   "execution_count": 1,
   "id": "28985ebc",
   "metadata": {},
   "outputs": [],
   "source": [
    "import pandas as pd\n",
    "import numpy as np\n",
    "import scipy \n",
    "import matplotlib.pyplot as plt\n",
    "import matplotlib\n",
    "import seaborn as sns\n",
    "%matplotlib inline"
   ]
  },
  {
   "cell_type": "code",
   "execution_count": 2,
   "id": "99961815",
   "metadata": {},
   "outputs": [
    {
     "name": "stdout",
     "output_type": "stream",
     "text": [
      "(471, 9)\n"
     ]
    },
    {
     "data": {
      "text/html": [
       "<div>\n",
       "<style scoped>\n",
       "    .dataframe tbody tr th:only-of-type {\n",
       "        vertical-align: middle;\n",
       "    }\n",
       "\n",
       "    .dataframe tbody tr th {\n",
       "        vertical-align: top;\n",
       "    }\n",
       "\n",
       "    .dataframe thead th {\n",
       "        text-align: right;\n",
       "    }\n",
       "</style>\n",
       "<table border=\"1\" class=\"dataframe\">\n",
       "  <thead>\n",
       "    <tr style=\"text-align: right;\">\n",
       "      <th></th>\n",
       "      <th>location</th>\n",
       "      <th>iso_code</th>\n",
       "      <th>date</th>\n",
       "      <th>retail_and_recreation</th>\n",
       "      <th>grocery_and_pharmacy</th>\n",
       "      <th>residential</th>\n",
       "      <th>transit_stations</th>\n",
       "      <th>parks</th>\n",
       "      <th>workplaces</th>\n",
       "    </tr>\n",
       "  </thead>\n",
       "  <tbody>\n",
       "    <tr>\n",
       "      <th>23897</th>\n",
       "      <td>India</td>\n",
       "      <td>IND</td>\n",
       "      <td>2020-02-17</td>\n",
       "      <td>0.667</td>\n",
       "      <td>1.667</td>\n",
       "      <td>0.000</td>\n",
       "      <td>2.000</td>\n",
       "      <td>3.000</td>\n",
       "      <td>3.000</td>\n",
       "    </tr>\n",
       "    <tr>\n",
       "      <th>23898</th>\n",
       "      <td>India</td>\n",
       "      <td>IND</td>\n",
       "      <td>2020-02-18</td>\n",
       "      <td>0.500</td>\n",
       "      <td>1.750</td>\n",
       "      <td>0.000</td>\n",
       "      <td>2.000</td>\n",
       "      <td>3.250</td>\n",
       "      <td>3.000</td>\n",
       "    </tr>\n",
       "    <tr>\n",
       "      <th>23899</th>\n",
       "      <td>India</td>\n",
       "      <td>IND</td>\n",
       "      <td>2020-02-19</td>\n",
       "      <td>0.400</td>\n",
       "      <td>1.800</td>\n",
       "      <td>0.200</td>\n",
       "      <td>1.800</td>\n",
       "      <td>2.800</td>\n",
       "      <td>3.200</td>\n",
       "    </tr>\n",
       "    <tr>\n",
       "      <th>23900</th>\n",
       "      <td>India</td>\n",
       "      <td>IND</td>\n",
       "      <td>2020-02-20</td>\n",
       "      <td>0.500</td>\n",
       "      <td>2.000</td>\n",
       "      <td>0.000</td>\n",
       "      <td>2.333</td>\n",
       "      <td>3.167</td>\n",
       "      <td>3.333</td>\n",
       "    </tr>\n",
       "    <tr>\n",
       "      <th>23901</th>\n",
       "      <td>India</td>\n",
       "      <td>IND</td>\n",
       "      <td>2020-02-21</td>\n",
       "      <td>-0.143</td>\n",
       "      <td>1.714</td>\n",
       "      <td>0.714</td>\n",
       "      <td>1.429</td>\n",
       "      <td>3.571</td>\n",
       "      <td>0.143</td>\n",
       "    </tr>\n",
       "  </tbody>\n",
       "</table>\n",
       "</div>"
      ],
      "text/plain": [
       "      location iso_code        date  retail_and_recreation  \\\n",
       "23897    India      IND  2020-02-17                  0.667   \n",
       "23898    India      IND  2020-02-18                  0.500   \n",
       "23899    India      IND  2020-02-19                  0.400   \n",
       "23900    India      IND  2020-02-20                  0.500   \n",
       "23901    India      IND  2020-02-21                 -0.143   \n",
       "\n",
       "       grocery_and_pharmacy  residential  transit_stations  parks  workplaces  \n",
       "23897                 1.667        0.000             2.000  3.000       3.000  \n",
       "23898                 1.750        0.000             2.000  3.250       3.000  \n",
       "23899                 1.800        0.200             1.800  2.800       3.200  \n",
       "23900                 2.000        0.000             2.333  3.167       3.333  \n",
       "23901                 1.714        0.714             1.429  3.571       0.143  "
      ]
     },
     "execution_count": 2,
     "metadata": {},
     "output_type": "execute_result"
    }
   ],
   "source": [
    "df1 = pd.read_csv('./data/changes-visitors-covid.csv')\n",
    "df1 = df1[df1.Entity == \"India\"]\n",
    "df1.rename(columns = {'Entity': 'location', 'Code':'iso_code', 'Day':'date'}, inplace = True)\n",
    "print(df1.shape)\n",
    "df1.head()"
   ]
  },
  {
   "cell_type": "code",
   "execution_count": 3,
   "id": "4da703c1",
   "metadata": {},
   "outputs": [
    {
     "name": "stdout",
     "output_type": "stream",
     "text": [
      "      iso_code continent location        date  new_cases\n",
      "38584      IND      Asia    India  2020-01-30        1.0\n",
      "38585      IND      Asia    India  2020-01-31        0.0\n",
      "38586      IND      Asia    India  2020-02-01        0.0\n",
      "38587      IND      Asia    India  2020-02-02        1.0\n",
      "38588      IND      Asia    India  2020-02-03        1.0\n",
      "(491, 5)\n"
     ]
    }
   ],
   "source": [
    "df2 = pd.read_csv('./data/covid-data.csv', usecols = ['iso_code', 'continent', 'location', 'date', 'new_cases'])\n",
    "df2 = df2[df2.iso_code == 'IND']\n",
    "print(df2.head(5))\n",
    "print(df2.shape)"
   ]
  },
  {
   "cell_type": "code",
   "execution_count": 4,
   "id": "7c029f17",
   "metadata": {},
   "outputs": [
    {
     "data": {
      "text/html": [
       "<div>\n",
       "<style scoped>\n",
       "    .dataframe tbody tr th:only-of-type {\n",
       "        vertical-align: middle;\n",
       "    }\n",
       "\n",
       "    .dataframe tbody tr th {\n",
       "        vertical-align: top;\n",
       "    }\n",
       "\n",
       "    .dataframe thead th {\n",
       "        text-align: right;\n",
       "    }\n",
       "</style>\n",
       "<table border=\"1\" class=\"dataframe\">\n",
       "  <thead>\n",
       "    <tr style=\"text-align: right;\">\n",
       "      <th></th>\n",
       "      <th>location</th>\n",
       "      <th>iso_code</th>\n",
       "      <th>date</th>\n",
       "      <th>retail_and_recreation</th>\n",
       "      <th>grocery_and_pharmacy</th>\n",
       "      <th>residential</th>\n",
       "      <th>transit_stations</th>\n",
       "      <th>parks</th>\n",
       "      <th>workplaces</th>\n",
       "      <th>continent</th>\n",
       "      <th>new_cases</th>\n",
       "    </tr>\n",
       "  </thead>\n",
       "  <tbody>\n",
       "    <tr>\n",
       "      <th>0</th>\n",
       "      <td>India</td>\n",
       "      <td>IND</td>\n",
       "      <td>2020-02-17</td>\n",
       "      <td>0.667</td>\n",
       "      <td>1.667</td>\n",
       "      <td>0.000</td>\n",
       "      <td>2.000</td>\n",
       "      <td>3.000</td>\n",
       "      <td>3.000</td>\n",
       "      <td>Asia</td>\n",
       "      <td>0.0</td>\n",
       "    </tr>\n",
       "    <tr>\n",
       "      <th>1</th>\n",
       "      <td>India</td>\n",
       "      <td>IND</td>\n",
       "      <td>2020-02-18</td>\n",
       "      <td>0.500</td>\n",
       "      <td>1.750</td>\n",
       "      <td>0.000</td>\n",
       "      <td>2.000</td>\n",
       "      <td>3.250</td>\n",
       "      <td>3.000</td>\n",
       "      <td>Asia</td>\n",
       "      <td>0.0</td>\n",
       "    </tr>\n",
       "    <tr>\n",
       "      <th>2</th>\n",
       "      <td>India</td>\n",
       "      <td>IND</td>\n",
       "      <td>2020-02-19</td>\n",
       "      <td>0.400</td>\n",
       "      <td>1.800</td>\n",
       "      <td>0.200</td>\n",
       "      <td>1.800</td>\n",
       "      <td>2.800</td>\n",
       "      <td>3.200</td>\n",
       "      <td>Asia</td>\n",
       "      <td>0.0</td>\n",
       "    </tr>\n",
       "    <tr>\n",
       "      <th>3</th>\n",
       "      <td>India</td>\n",
       "      <td>IND</td>\n",
       "      <td>2020-02-20</td>\n",
       "      <td>0.500</td>\n",
       "      <td>2.000</td>\n",
       "      <td>0.000</td>\n",
       "      <td>2.333</td>\n",
       "      <td>3.167</td>\n",
       "      <td>3.333</td>\n",
       "      <td>Asia</td>\n",
       "      <td>0.0</td>\n",
       "    </tr>\n",
       "    <tr>\n",
       "      <th>4</th>\n",
       "      <td>India</td>\n",
       "      <td>IND</td>\n",
       "      <td>2020-02-21</td>\n",
       "      <td>-0.143</td>\n",
       "      <td>1.714</td>\n",
       "      <td>0.714</td>\n",
       "      <td>1.429</td>\n",
       "      <td>3.571</td>\n",
       "      <td>0.143</td>\n",
       "      <td>Asia</td>\n",
       "      <td>0.0</td>\n",
       "    </tr>\n",
       "  </tbody>\n",
       "</table>\n",
       "</div>"
      ],
      "text/plain": [
       "  location iso_code        date  retail_and_recreation  grocery_and_pharmacy  \\\n",
       "0    India      IND  2020-02-17                  0.667                 1.667   \n",
       "1    India      IND  2020-02-18                  0.500                 1.750   \n",
       "2    India      IND  2020-02-19                  0.400                 1.800   \n",
       "3    India      IND  2020-02-20                  0.500                 2.000   \n",
       "4    India      IND  2020-02-21                 -0.143                 1.714   \n",
       "\n",
       "   residential  transit_stations  parks  workplaces continent  new_cases  \n",
       "0        0.000             2.000  3.000       3.000      Asia        0.0  \n",
       "1        0.000             2.000  3.250       3.000      Asia        0.0  \n",
       "2        0.200             1.800  2.800       3.200      Asia        0.0  \n",
       "3        0.000             2.333  3.167       3.333      Asia        0.0  \n",
       "4        0.714             1.429  3.571       0.143      Asia        0.0  "
      ]
     },
     "execution_count": 4,
     "metadata": {},
     "output_type": "execute_result"
    }
   ],
   "source": [
    "covid_data = pd.merge(df1, df2, on = ['date', 'location', 'iso_code'])\n",
    "covid_data.head()"
   ]
  },
  {
   "cell_type": "code",
   "execution_count": 5,
   "id": "52cfb74a",
   "metadata": {},
   "outputs": [
    {
     "data": {
      "text/plain": [
       "location                   1\n",
       "iso_code                   1\n",
       "date                     471\n",
       "retail_and_recreation    262\n",
       "grocery_and_pharmacy     268\n",
       "residential              143\n",
       "transit_stations         270\n",
       "parks                    254\n",
       "workplaces               253\n",
       "continent                  1\n",
       "new_cases                448\n",
       "dtype: int64"
      ]
     },
     "execution_count": 5,
     "metadata": {},
     "output_type": "execute_result"
    }
   ],
   "source": [
    "covid_data.nunique()\n",
    "#since there are only unique values in 'location', 'iso_code', 'continent' we can drop these columns"
   ]
  },
  {
   "cell_type": "code",
   "execution_count": 6,
   "id": "fbc0ff30",
   "metadata": {
    "scrolled": true
   },
   "outputs": [
    {
     "data": {
      "text/html": [
       "<div>\n",
       "<style scoped>\n",
       "    .dataframe tbody tr th:only-of-type {\n",
       "        vertical-align: middle;\n",
       "    }\n",
       "\n",
       "    .dataframe tbody tr th {\n",
       "        vertical-align: top;\n",
       "    }\n",
       "\n",
       "    .dataframe thead th {\n",
       "        text-align: right;\n",
       "    }\n",
       "</style>\n",
       "<table border=\"1\" class=\"dataframe\">\n",
       "  <thead>\n",
       "    <tr style=\"text-align: right;\">\n",
       "      <th></th>\n",
       "      <th>date</th>\n",
       "      <th>retail_and_recreation</th>\n",
       "      <th>grocery_and_pharmacy</th>\n",
       "      <th>residential</th>\n",
       "      <th>transit_stations</th>\n",
       "      <th>parks</th>\n",
       "      <th>workplaces</th>\n",
       "      <th>new_cases</th>\n",
       "    </tr>\n",
       "  </thead>\n",
       "  <tbody>\n",
       "    <tr>\n",
       "      <th>0</th>\n",
       "      <td>2020-02-17</td>\n",
       "      <td>0.667</td>\n",
       "      <td>1.667</td>\n",
       "      <td>0.0</td>\n",
       "      <td>2.0</td>\n",
       "      <td>3.0</td>\n",
       "      <td>3.0</td>\n",
       "      <td>0.0</td>\n",
       "    </tr>\n",
       "  </tbody>\n",
       "</table>\n",
       "</div>"
      ],
      "text/plain": [
       "         date  retail_and_recreation  grocery_and_pharmacy  residential  \\\n",
       "0  2020-02-17                  0.667                 1.667          0.0   \n",
       "\n",
       "   transit_stations  parks  workplaces  new_cases  \n",
       "0               2.0    3.0         3.0        0.0  "
      ]
     },
     "execution_count": 6,
     "metadata": {},
     "output_type": "execute_result"
    }
   ],
   "source": [
    "covid_data = covid_data.drop(['location', 'iso_code', 'continent'], axis = 1)\n",
    "covid_data.head(1)"
   ]
  },
  {
   "cell_type": "markdown",
   "id": "fa6a64c4",
   "metadata": {},
   "source": [
    "### Data Cleaning"
   ]
  },
  {
   "cell_type": "code",
   "execution_count": 7,
   "id": "692cff5c",
   "metadata": {},
   "outputs": [],
   "source": [
    "mobility_columns = ['retail_and_recreation', 'grocery_and_pharmacy', 'residential' ,'transit_stations' ,'parks','workplaces']"
   ]
  },
  {
   "cell_type": "code",
   "execution_count": 8,
   "id": "a70464f6",
   "metadata": {},
   "outputs": [
    {
     "data": {
      "text/plain": [
       "date                      object\n",
       "retail_and_recreation    float64\n",
       "grocery_and_pharmacy     float64\n",
       "residential              float64\n",
       "transit_stations         float64\n",
       "parks                    float64\n",
       "workplaces               float64\n",
       "new_cases                float64\n",
       "dtype: object"
      ]
     },
     "execution_count": 8,
     "metadata": {},
     "output_type": "execute_result"
    }
   ],
   "source": [
    "covid_data.dtypes"
   ]
  },
  {
   "cell_type": "code",
   "execution_count": 9,
   "id": "2f8c8c18",
   "metadata": {
    "scrolled": false
   },
   "outputs": [
    {
     "data": {
      "text/plain": [
       "date                     0\n",
       "retail_and_recreation    0\n",
       "grocery_and_pharmacy     0\n",
       "residential              0\n",
       "transit_stations         0\n",
       "parks                    0\n",
       "workplaces               0\n",
       "new_cases                0\n",
       "dtype: int64"
      ]
     },
     "execution_count": 9,
     "metadata": {},
     "output_type": "execute_result"
    }
   ],
   "source": [
    "#checking for any null values\n",
    "covid_data.isnull().sum(axis = 0)"
   ]
  },
  {
   "cell_type": "code",
   "execution_count": 10,
   "id": "5776e6fa",
   "metadata": {},
   "outputs": [
    {
     "data": {
      "image/png": "[encoded data removed]",
      "text/plain": [
       "<Figure size 1080x576 with 6 Axes>"
      ]
     },
     "metadata": {
      "needs_background": "light"
     },
     "output_type": "display_data"
    }
   ],
   "source": [
    "fig, plots = plt.subplots(2, 3)\n",
    "fig.set_figheight(8)\n",
    "fig.set_figwidth(15)\n",
    "fig.suptitle('Mobility plots wrt time')\n",
    "for i, column in enumerate(mobility_columns):\n",
    "    ax = plots[i//3][i%3]\n",
    "    ax.boxplot(covid_data[column])\n",
    "    ax.set_title(column)"
   ]
  },
  {
   "cell_type": "markdown",
   "id": "80618518",
   "metadata": {},
   "source": [
    "No null values exist in our dataset"
   ]
  },
  {
   "cell_type": "code",
   "execution_count": null,
   "id": "aa2e4c10",
   "metadata": {},
   "outputs": [],
   "source": []
  },
  {
   "cell_type": "markdown",
   "id": "49d0594d",
   "metadata": {},
   "source": [
    "### Saving the clean data for separate use in model.py"
   ]
  },
  {
   "cell_type": "code",
   "execution_count": 11,
   "id": "2aa2dbd6",
   "metadata": {},
   "outputs": [],
   "source": [
    "covid_data.to_csv('./data/covid_data_india.csv',index = False)"
   ]
  },
  {
   "cell_type": "code",
   "execution_count": 12,
   "id": "5afa8a74",
   "metadata": {},
   "outputs": [],
   "source": [
    "# visualizing the dataset"
   ]
  },
  {
   "cell_type": "code",
   "execution_count": 13,
   "id": "11f5a44c",
   "metadata": {},
   "outputs": [
    {
     "data": {
      "text/plain": [
       "<AxesSubplot:>"
      ]
     },
     "execution_count": 13,
     "metadata": {},
     "output_type": "execute_result"
    },
    {
     "data": {
      "image/png": "[encoded data removed]",
      "text/plain": [
       "<Figure size 432x288 with 1 Axes>"
      ]
     },
     "metadata": {
      "needs_background": "light"
     },
     "output_type": "display_data"
    }
   ],
   "source": [
    "covid_data.new_cases.plot()\n",
    "# we can see that the target column is basically a time series which has to be predicted, \n",
    "# given the corresponding mobility data.\n",
    "# this is indeed the actual data that can we verified from google. (this statement is logical pertaining to this scenario only)"
   ]
  },
  {
   "cell_type": "code",
   "execution_count": 14,
   "id": "89334a03",
   "metadata": {
    "scrolled": true
   },
   "outputs": [
    {
     "data": {
      "image/png": "[encoded data removed]",
      "text/plain": [
       "<Figure size 1080x216 with 6 Axes>"
      ]
     },
     "metadata": {
      "needs_background": "light"
     },
     "output_type": "display_data"
    }
   ],
   "source": [
    "fig, plots = plt.subplots(1,6)\n",
    "fig.set_figheight(3)\n",
    "fig.set_figwidth(15)\n",
    "fig.suptitle('Distribution plots')\n",
    "for i, column in enumerate(mobility_columns):\n",
    "    plots[i].hist(covid_data[column])\n",
    "    plots[i].set_xlabel(column)\n",
    "#     plots[i].xlabel(column)"
   ]
  },
  {
   "cell_type": "code",
   "execution_count": 15,
   "id": "248b16fc",
   "metadata": {
    "scrolled": false
   },
   "outputs": [
    {
     "data": {
      "image/png": "[encoded data removed]",
      "text/plain": [
       "<Figure size 1080x576 with 6 Axes>"
      ]
     },
     "metadata": {
      "needs_background": "light"
     },
     "output_type": "display_data"
    }
   ],
   "source": [
    "fig, plots = plt.subplots(2, 3)\n",
    "fig.set_figheight(8)\n",
    "fig.set_figwidth(15)\n",
    "fig.suptitle('Mobility plots wrt time')\n",
    "for i, column in enumerate(mobility_columns):\n",
    "    ax = plots[i//3][i%3]\n",
    "    ax.plot(covid_data[column])\n",
    "    ax.set_title(column)"
   ]
  },
  {
   "cell_type": "markdown",
   "id": "3d4bf4c7",
   "metadata": {},
   "source": [
    "we can see that the plots follow similar trends wrt time axis. Plot[1][3] is however following a trend that seems to be reverse of others. This should obviously be because people preferred staying at home due to the scenario. Also looking at residential and workspace closely, the trends seem to be almost mirror images of each other.  \n",
    "Also we have to consider that in all cases 0 or a number slightly higher than 0 must have been the base line quantity in the pre covid era"
   ]
  },
  {
   "cell_type": "code",
   "execution_count": 16,
   "id": "65891eef",
   "metadata": {},
   "outputs": [
    {
     "data": {
      "text/html": [
       "<div>\n",
       "<style scoped>\n",
       "    .dataframe tbody tr th:only-of-type {\n",
       "        vertical-align: middle;\n",
       "    }\n",
       "\n",
       "    .dataframe tbody tr th {\n",
       "        vertical-align: top;\n",
       "    }\n",
       "\n",
       "    .dataframe thead th {\n",
       "        text-align: right;\n",
       "    }\n",
       "</style>\n",
       "<table border=\"1\" class=\"dataframe\">\n",
       "  <thead>\n",
       "    <tr style=\"text-align: right;\">\n",
       "      <th></th>\n",
       "      <th>retail_and_recreation</th>\n",
       "      <th>grocery_and_pharmacy</th>\n",
       "      <th>residential</th>\n",
       "      <th>transit_stations</th>\n",
       "      <th>parks</th>\n",
       "      <th>workplaces</th>\n",
       "      <th>new_cases</th>\n",
       "    </tr>\n",
       "  </thead>\n",
       "  <tbody>\n",
       "    <tr>\n",
       "      <th>retail_and_recreation</th>\n",
       "      <td>1.000000</td>\n",
       "      <td>0.820786</td>\n",
       "      <td>-0.925891</td>\n",
       "      <td>0.970580</td>\n",
       "      <td>0.906370</td>\n",
       "      <td>0.928552</td>\n",
       "      <td>-0.134351</td>\n",
       "    </tr>\n",
       "    <tr>\n",
       "      <th>grocery_and_pharmacy</th>\n",
       "      <td>0.820786</td>\n",
       "      <td>1.000000</td>\n",
       "      <td>-0.840430</td>\n",
       "      <td>0.913562</td>\n",
       "      <td>0.664009</td>\n",
       "      <td>0.867805</td>\n",
       "      <td>-0.052792</td>\n",
       "    </tr>\n",
       "    <tr>\n",
       "      <th>residential</th>\n",
       "      <td>-0.925891</td>\n",
       "      <td>-0.840430</td>\n",
       "      <td>1.000000</td>\n",
       "      <td>-0.928817</td>\n",
       "      <td>-0.768427</td>\n",
       "      <td>-0.969960</td>\n",
       "      <td>0.313037</td>\n",
       "    </tr>\n",
       "    <tr>\n",
       "      <th>transit_stations</th>\n",
       "      <td>0.970580</td>\n",
       "      <td>0.913562</td>\n",
       "      <td>-0.928817</td>\n",
       "      <td>1.000000</td>\n",
       "      <td>0.880851</td>\n",
       "      <td>0.951951</td>\n",
       "      <td>-0.153770</td>\n",
       "    </tr>\n",
       "    <tr>\n",
       "      <th>parks</th>\n",
       "      <td>0.906370</td>\n",
       "      <td>0.664009</td>\n",
       "      <td>-0.768427</td>\n",
       "      <td>0.880851</td>\n",
       "      <td>1.000000</td>\n",
       "      <td>0.794867</td>\n",
       "      <td>-0.119766</td>\n",
       "    </tr>\n",
       "    <tr>\n",
       "      <th>workplaces</th>\n",
       "      <td>0.928552</td>\n",
       "      <td>0.867805</td>\n",
       "      <td>-0.969960</td>\n",
       "      <td>0.951951</td>\n",
       "      <td>0.794867</td>\n",
       "      <td>1.000000</td>\n",
       "      <td>-0.232405</td>\n",
       "    </tr>\n",
       "    <tr>\n",
       "      <th>new_cases</th>\n",
       "      <td>-0.134351</td>\n",
       "      <td>-0.052792</td>\n",
       "      <td>0.313037</td>\n",
       "      <td>-0.153770</td>\n",
       "      <td>-0.119766</td>\n",
       "      <td>-0.232405</td>\n",
       "      <td>1.000000</td>\n",
       "    </tr>\n",
       "  </tbody>\n",
       "</table>\n",
       "</div>"
      ],
      "text/plain": [
       "                       retail_and_recreation  grocery_and_pharmacy  \\\n",
       "retail_and_recreation               1.000000              0.820786   \n",
       "grocery_and_pharmacy                0.820786              1.000000   \n",
       "residential                        -0.925891             -0.840430   \n",
       "transit_stations                    0.970580              0.913562   \n",
       "parks                               0.906370              0.664009   \n",
       "workplaces                          0.928552              0.867805   \n",
       "new_cases                          -0.134351             -0.052792   \n",
       "\n",
       "                       residential  transit_stations     parks  workplaces  \\\n",
       "retail_and_recreation    -0.925891          0.970580  0.906370    0.928552   \n",
       "grocery_and_pharmacy     -0.840430          0.913562  0.664009    0.867805   \n",
       "residential               1.000000         -0.928817 -0.768427   -0.969960   \n",
       "transit_stations         -0.928817          1.000000  0.880851    0.951951   \n",
       "parks                    -0.768427          0.880851  1.000000    0.794867   \n",
       "workplaces               -0.969960          0.951951  0.794867    1.000000   \n",
       "new_cases                 0.313037         -0.153770 -0.119766   -0.232405   \n",
       "\n",
       "                       new_cases  \n",
       "retail_and_recreation  -0.134351  \n",
       "grocery_and_pharmacy   -0.052792  \n",
       "residential             0.313037  \n",
       "transit_stations       -0.153770  \n",
       "parks                  -0.119766  \n",
       "workplaces             -0.232405  \n",
       "new_cases               1.000000  "
      ]
     },
     "execution_count": 16,
     "metadata": {},
     "output_type": "execute_result"
    }
   ],
   "source": [
    "# correlation matrix for dataset\n",
    "covid_data.corr()"
   ]
  },
  {
   "cell_type": "code",
   "execution_count": null,
   "id": "17bc5b29",
   "metadata": {},
   "outputs": [],
   "source": []
  },
  {
   "cell_type": "code",
   "execution_count": null,
   "id": "b2133238",
   "metadata": {},
   "outputs": [],
   "source": []
  }
 ],
 "metadata": {
  "kernelspec": {
   "display_name": "Python 3 (ipykernel)",
   "language": "python",
   "name": "python3"
  },
  "language_info": {
   "codemirror_mode": {
    "name": "ipython",
    "version": 3
   },
   "file_extension": ".py",
   "mimetype": "text/x-python",
   "name": "python",
   "nbconvert_exporter": "python",
   "pygments_lexer": "ipython3",
   "version": "3.8.10"
  }
 },
 "nbformat": 4,
 "nbformat_minor": 5
}
